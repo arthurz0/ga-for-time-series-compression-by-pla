{
 "cells": [
  {
   "cell_type": "code",
   "execution_count": null,
   "metadata": {},
   "outputs": [],
   "source": [
    "using CSV\n",
    "using DataFrames\n",
    "using PyPlot\n",
    "using Statistics\n",
    "using Printf\n",
    "\n",
    "rc(\"font\", family=\"sans-serif\", size=16)"
   ]
  },
  {
   "cell_type": "code",
   "execution_count": null,
   "metadata": {},
   "outputs": [],
   "source": [
    "firstQuarter(array) = quantile(array, 0.25)\n",
    "thirdQuarter(array) = quantile(array, 0.75)\n",
    "\n",
    "overview_df = CSV.read(\"experiments_deep\\\\overview_timed.csv\")\n",
    "bellman_df = CSV.read(\"experiments_deep\\\\bellman_notable.csv\")\n",
    "\n",
    "\n",
    "function getBellman(dataset, consideredLength, remainingPoints)\n",
    "    relevantEntries = filter(row -> row[:dataset] == dataset && row[:length] == consideredLength && row[:remaining_points] == remainingPoints, bellman_df)\n",
    "    return relevantEntries[:mse][1]\n",
    "end\n",
    "\n",
    "\n",
    "function getBellmanTime(consideredLength, remainingPoints) # the run time of Bellman does not depend on the underlying data (same run time across data sets of same length)\n",
    "    relevantEntries = filter(row -> row[:length] == consideredLength && row[:remaining_points] == remainingPoints, bellman_df)\n",
    "    return mean(relevantEntries[:time])\n",
    "end\n",
    "\n",
    "function plotTimeUntilBellman(dataset)\n",
    "    relevantEntries = filter(row -> row[:dataset] == dataset && row[:loop] && occursin(\"contains special\", row[:description]), overview_df)\n",
    "    sort!(relevantEntries, [:consideredLength])\n",
    "    bellmanTimes = []\n",
    "    consideredLengths = []\n",
    "    absoluteTimes = []\n",
    "    for i in 1:size(relevantEntries, 1)\n",
    "        consideredLength = relevantEntries[:consideredLength][i]\n",
    "        remainingPoints = relevantEntries[:remaining_points][i]\n",
    "        bellman_mse = getBellman(dataset, consideredLength, remainingPoints)\n",
    "        df = CSV.read(\"experiments_deep/\"*relevantEntries[:name][i]*\".csv\")\n",
    "        numberRuns = length(unique(df[:run_id]))\n",
    "        df_successful = filter(row -> row[:best_valid_mse] <= bellman_mse, df)\n",
    "        finish_df = by(df_successful, :run_id, :total_time => minimum)\n",
    "        numberSuccessful = size(finish_df, 1)\n",
    "        bellmanTime = getBellmanTime(consideredLength, remainingPoints)\n",
    "        push!(bellmanTimes, bellmanTime)\n",
    "        push!(consideredLengths, consideredLength/1000)\n",
    "        push!(absoluteTimes, finish_df.total_time_minimum)\n",
    "        @assert numberSuccessful == numberRuns\n",
    "    end\n",
    "    for i in 1:length(consideredLengths)\n",
    "       println(consideredLengths[i], \" \", mean(absoluteTimes[i])) \n",
    "    end\n",
    "    w, h = plt[:figaspect](0.6)\n",
    "    figure(figsize=(w,h))\n",
    "    plot(consideredLengths, bellmanTimes, label=\"Bellman\", linewidth=2, marker=\"o\")\n",
    "    plot(consideredLengths, median.(absoluteTimes), label=\"PLA-GA\", linewidth=2, marker=\"o\")\n",
    "    #fill_between(consideredLengths, firstQuarter.(absoluteTimes), thirdQuarter.(absoluteTimes), alpha=0.3, color=\"orange\")\n",
    "    for i in 1:length(bellmanTimes)\n",
    "        speedUp = bellmanTimes[i] / median(absoluteTimes[i])\n",
    "        speedUpFormatted = @sprintf(\"%.3g\", speedUp)\n",
    "        if 4 < length(speedUpFormatted)\n",
    "            speedUpFormatted = @sprintf(\"%.2f\", speedUp)\n",
    "        end\n",
    "        if length(speedUpFormatted) < 3\n",
    "            speedUpFormatted = \"  \" * speedUpFormatted\n",
    "        end\n",
    "        annotate(speedUpFormatted, (consideredLengths[i] -7, bellmanTimes[i]+100))\n",
    "    end\n",
    "    xlabel(\"n in thousands\")\n",
    "    ylabel(\"WCT in seconds\")\n",
    "    legend(loc=\"upper left\")\n",
    "    ylim(0)\n",
    "end"
   ]
  },
  {
   "cell_type": "code",
   "execution_count": null,
   "metadata": {},
   "outputs": [],
   "source": [
    "plotSpecs = [(\"Ham\", (0,93), (0, 13000)), (\"Rock\", (0,103), (0, 17000)), (\"subject103_5\", (0,103), (0, 17000)),\n",
    "    (\"subject103_6\", (0,103), (0, 17000))\n",
    "]\n",
    "spec = 1\n",
    "ds = plotSpecs[spec][1]\n",
    "plotTimeUntilBellman(ds)\n",
    "xlim(plotSpecs[spec][2])\n",
    "ylim(plotSpecs[spec][3])\n",
    "tight_layout()\n",
    "savefig(\"Scaling $ds.pdf\", bbox_inches=\"tight\")"
   ]
  }
 ],
 "metadata": {
  "@webio": {
   "lastCommId": null,
   "lastKernelId": null
  },
  "kernelspec": {
   "display_name": "Julia 1.3.1",
   "language": "julia",
   "name": "julia-1.3"
  },
  "language_info": {
   "file_extension": ".jl",
   "mimetype": "application/julia",
   "name": "julia",
   "version": "1.3.1"
  }
 },
 "nbformat": 4,
 "nbformat_minor": 2
}
